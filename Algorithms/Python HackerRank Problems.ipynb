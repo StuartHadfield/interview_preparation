{
 "cells": [
  {
   "cell_type": "markdown",
   "metadata": {},
   "source": [
    "# Check if a tree is a valid BST"
   ]
  },
  {
   "cell_type": "code",
   "execution_count": 1,
   "metadata": {
    "collapsed": true
   },
   "outputs": [],
   "source": [
    "def checkBST(root):\n",
    "    return traverse(root, -sys.maxsize-1, sys.maxsize)\n",
    "    \n",
    "def traverse(node, mini, maxi):\n",
    "    if node is None:\n",
    "        return True\n",
    "    else:\n",
    "        return (mini < node.data) and (maxi > node.data) and traverse(node.left, mini, node.data) and traverse(node.right, node.data, maxi)"
   ]
  },
  {
   "cell_type": "markdown",
   "metadata": {},
   "source": [
    "# Decode a huffman tree"
   ]
  },
  {
   "cell_type": "code",
   "execution_count": 6,
   "metadata": {
    "collapsed": true
   },
   "outputs": [],
   "source": [
    "def decodeHuff(root, s):\n",
    "    temp=root\n",
    "    string=[]\n",
    "\n",
    "    for i in s:\n",
    "        c = int(i)\n",
    "        if c == 1:\n",
    "            temp = temp.right\n",
    "        elif c == 0:\n",
    "            temp = temp.left\n",
    "        if temp.right == None and temp.left == None:\n",
    "            string.append(temp.data)\n",
    "            temp = root\n",
    "    b = ''.join(string)\n",
    "    print(b)"
   ]
  },
  {
   "cell_type": "code",
   "execution_count": null,
   "metadata": {
    "collapsed": true
   },
   "outputs": [],
   "source": []
  }
 ],
 "metadata": {
  "kernelspec": {
   "display_name": "Python [py3]",
   "language": "python",
   "name": "Python [py3]"
  },
  "language_info": {
   "codemirror_mode": {
    "name": "ipython",
    "version": 3
   },
   "file_extension": ".py",
   "mimetype": "text/x-python",
   "name": "python",
   "nbconvert_exporter": "python",
   "pygments_lexer": "ipython3",
   "version": "3.5.2"
  }
 },
 "nbformat": 4,
 "nbformat_minor": 2
}
