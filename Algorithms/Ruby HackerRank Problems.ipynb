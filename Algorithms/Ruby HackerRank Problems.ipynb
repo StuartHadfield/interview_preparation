{
 "cells": [
  {
   "cell_type": "markdown",
   "metadata": {},
   "source": [
    "These are first attempts. Some of them will be slow, and will not get full points.  This is mostly because of execution timeouts. Sad Stu, sad Ruby. Alas, time is limited"
   ]
  },
  {
   "cell_type": "markdown",
   "metadata": {},
   "source": [
    "# Hash Tables: Ransom Note"
   ]
  },
  {
   "cell_type": "code",
   "execution_count": 94,
   "metadata": {},
   "outputs": [
    {
     "name": "stdout",
     "output_type": "stream",
     "text": [
      "Yes"
     ]
    }
   ],
   "source": [
    "def check_magazine(magazine, note)\n",
    "    letter_dict = magazine.each_with_object({}) do |letter, acc|\n",
    "        acc.key?(letter) ? acc[letter] += 1 : acc[letter] = 1\n",
    "    end\n",
    "\n",
    "    can_create = true\n",
    "    note.map do |letter|\n",
    "        if letter_dict[letter].nil?\n",
    "            can_create = false\n",
    "            break\n",
    "        else\n",
    "            letter_dict[letter] -= 1\n",
    "            if letter_dict[letter] < 0\n",
    "                can_create = false\n",
    "                break\n",
    "            end\n",
    "        end\n",
    "    end\n",
    "\n",
    "    print can_create ? \"Yes\" : \"No\"\n",
    "end\n",
    "\n",
    "check_magazine(['give', 'me', 'one', 'grand', 'today', 'night'],\n",
    "['give', 'one', 'grand', 'today'])"
   ]
  },
  {
   "cell_type": "markdown",
   "metadata": {},
   "source": [
    "# Sherlock and Anagrams"
   ]
  },
  {
   "cell_type": "code",
   "execution_count": 95,
   "metadata": {},
   "outputs": [
    {
     "data": {
      "text/plain": [
       "5"
      ]
     },
     "execution_count": 95,
     "metadata": {},
     "output_type": "execute_result"
    }
   ],
   "source": [
    "def sherlock_and_anagrams(s)\n",
    "  str = s\n",
    "  sorted_substrings = (1..str.size - 1).each_with_object([]) do |i, substrings|\n",
    "      str.chars.each_cons(i) do |substring|\n",
    "        substrings << substring.sort.join\n",
    "      end\n",
    "  end\n",
    "  \n",
    "  occurrences = sorted_substrings.each_with_object({}) do |substring, acc|\n",
    "    acc[substring].nil? ? acc[substring] = 1 : acc[substring] += 1\n",
    "  end\n",
    "  \n",
    "  occurrences.values.reduce(0) do |memo, val|\n",
    "      memo += factorial(val) / (factorial(2) * factorial(val - 2))\n",
    "  end\n",
    "end\n",
    "\n",
    "def factorial(n)\n",
    "  (1..n).inject(:*) || 1\n",
    "end\n",
    "\n",
    "sherlock_and_anagrams('cdcd')"
   ]
  },
  {
   "cell_type": "markdown",
   "metadata": {},
   "source": [
    "# Count Triplets Geometric Progression"
   ]
  },
  {
   "cell_type": "code",
   "execution_count": 97,
   "metadata": {},
   "outputs": [
    {
     "data": {
      "text/plain": [
       "5"
      ]
     },
     "execution_count": 97,
     "metadata": {},
     "output_type": "execute_result"
    }
   ],
   "source": [
    "def count_triplets(arr, factor)\n",
    "\n",
    "  result_indices = []\n",
    "  for i in (0..arr.size-1) do\n",
    "    index_combos = [[i]]\n",
    "    number = arr[i]\n",
    "    2.times do\n",
    "      number = number*factor\n",
    "      valid_indices = arr.each_index.select { |j| arr[j] == number && j != i }\n",
    "      index_combos << valid_indices\n",
    "    end\n",
    "    result_indices << index_combos if index_combos.flatten.compact.size > 2\n",
    "  end\n",
    "\n",
    "  combinations = result_indices.flat_map do |index_group|\n",
    "    index_group[0].product(index_group[1], index_group[2])\n",
    "  end\n",
    "\n",
    "  combinations.reject! do |index_group|\n",
    "    index_group.sort != index_group\n",
    "  end\n",
    "  combinations.size\n",
    "end\n",
    "\n",
    "factor = 1\n",
    "arr = [1, 2, 1, 1, 2, 4]\n",
    "count_triplets(arr, factor)\n",
    "\n",
    "# In python this is really simple.\n",
    "\n",
    "# def count_triplets(arr, r):\n",
    "#     v2 = defaultdict(int)\n",
    "#     v3 = defaultdict(int)\n",
    "#     count = 0\n",
    "#     for k in arr:\n",
    "#         count += v3[k]\n",
    "#         v3[k*r] += v2[k]\n",
    "#         v2[k*r] += 1\n",
    "#         print(v3)\n",
    "#         print(v2)\n",
    "#         print(count)\n",
    "\n",
    "#     return count"
   ]
  }
 ],
 "metadata": {
  "kernelspec": {
   "display_name": "Ruby 2.3.3",
   "language": "ruby",
   "name": "ruby"
  },
  "language_info": {
   "file_extension": ".rb",
   "mimetype": "application/x-ruby",
   "name": "ruby",
   "version": "2.3.3"
  }
 },
 "nbformat": 4,
 "nbformat_minor": 2
}
